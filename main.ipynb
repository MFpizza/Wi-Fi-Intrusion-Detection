{
 "cells": [
  {
   "cell_type": "code",
   "execution_count": 13,
   "metadata": {},
   "outputs": [],
   "source": [
    "import json\n",
    "import numpy as np\n",
    "import matplotlib.pyplot as plt\n",
    "import logging\n",
    "\n",
    "from picoscenes import Picoscenes\n",
    "\n",
    "from packet.PacketFormatEnum import PacketFormatEnum\n",
    "from packet.PacketData import PacketData\n"
   ]
  },
  {
   "cell_type": "code",
   "execution_count": 18,
   "metadata": {},
   "outputs": [],
   "source": [
    "logging.basicConfig(filename='example.log', level=logging.DEBUG, format='%(asctime)s - %(levelname)s - %(message)s')\n",
    "\n",
    "console_handler = logging.StreamHandler()\n",
    "console_handler.setLevel(logging.DEBUG)\n",
    "\n",
    "formatter = logging.Formatter('%(asctime)s - %(levelname)s - %(message)s')\n",
    "console_handler.setFormatter(formatter)\n",
    "\n",
    "logging.getLogger('').addHandler(console_handler)"
   ]
  },
  {
   "cell_type": "code",
   "execution_count": 16,
   "metadata": {},
   "outputs": [],
   "source": [
    "class PicoscenesData:\n",
    "    def __init__(self, data_path):\n",
    "        self.data_path = data_path\n",
    "        self.datas = [PacketData(item) for item in Picoscenes(self.data_path).raw]\n",
    "\n",
    "    def filterFormat(self, format: PacketFormatEnum) -> None:\n",
    "        # if not isinstance(format, PacketFormatEnum):\n",
    "        #     raise TypeError(\"format must be a PacketFormat object\")\n",
    "        self.datas = [\n",
    "            data for data in self.datas if data.RxSBasic.packetFormat == format\n",
    "        ]\n",
    "        logging.debug(\"self.data only has {} format item\".format(format))\n",
    "\n",
    "    def filterBandwidth(self, bandwidth:int) -> None:\n",
    "        # if not isinstance(bandwidth, int):\n",
    "        #     raise TypeError(\"bandwidth must be an integer\")\n",
    "        self.datas = [data for data in self.datas if data.RxSBasic.CBW == bandwidth]\n",
    "        logging.debug(\"self.data only has {} bandwidth item\".format(bandwidth))\n",
    "    \n",
    "    @classmethod\n",
    "    def calculateMotionStatistic(self) -> float:\n",
    "        \n",
    "        \n",
    "        \n",
    "        return 0.0"
   ]
  },
  {
   "cell_type": "code",
   "execution_count": 21,
   "metadata": {},
   "outputs": [
    {
     "name": "stderr",
     "output_type": "stream",
     "text": [
      "2024-03-27 03:12:41,596 - DEBUG - self.data only has PacketFormatEnum.PacketFormat_VHT format item\n",
      "2024-03-27 03:12:41,604 - DEBUG - self.data only has 40 bandwidth item\n"
     ]
    }
   ],
   "source": [
    "pathname = \"data/csi/\"\n",
    "filename = \"rx_4_240308_152729.csi\" #Static environment\n",
    "frames = PicoscenesData(pathname+filename)\n",
    "\n",
    "\n",
    "frames.filterFormat(PacketFormatEnum.PacketFormat_VHT)\n",
    "frames.filterBandwidth(40)"
   ]
  },
  {
   "cell_type": "code",
   "execution_count": null,
   "metadata": {},
   "outputs": [],
   "source": []
  }
 ],
 "metadata": {
  "language_info": {
   "name": "python"
  }
 },
 "nbformat": 4,
 "nbformat_minor": 2
}
